{
 "cells": [
  {
   "cell_type": "markdown",
   "metadata": {},
   "source": [
    "## Analysis of Good vs. Great beers - metrics and beer notes"
   ]
  },
  {
   "cell_type": "code",
   "execution_count": 1,
   "metadata": {},
   "outputs": [],
   "source": [
    "import pandas as pd\n",
    "\n",
    "#create df from reviews\n",
    "df_reviews = pd.read_csv('reviews.csv')"
   ]
  },
  {
   "cell_type": "code",
   "execution_count": 2,
   "metadata": {},
   "outputs": [],
   "source": [
    "#create df from combined beers.csv and breweries.csv file\n",
    "df_bb = pd.read_csv('beers_breweries.csv')"
   ]
  },
  {
   "cell_type": "code",
   "execution_count": 3,
   "metadata": {},
   "outputs": [
    {
     "data": {
      "text/plain": [
       "7524410"
      ]
     },
     "execution_count": 3,
     "metadata": {},
     "output_type": "execute_result"
    }
   ],
   "source": [
    "#merge beers/breweries with review\n",
    "df_all = df_bb.merge(df_reviews, on='beer_id')\n",
    "\n",
    "#check the number or rows in df_all\n",
    "df_all.shape[0]"
   ]
  },
  {
   "cell_type": "code",
   "execution_count": 4,
   "metadata": {},
   "outputs": [],
   "source": [
    "#Will use UM grade definitions to determine good vs. great beer scores\n",
    "#http://catalog.umd.umich.edu/academic-policies-campus/grading-system/\n",
    "#90%+ grades = Superior Achievement, translates to beers with overall score of 4.5+\n",
    "#80%-90% grades = Good Achievement, translates to beers with overall score from 4.0 to < 4.5\n",
    "\n",
    "df_great = df_all[df_all['score'] >= 4.5]\n",
    "df_good = df_all[(df_all['score'] >= 4.0) & (df_all['score'] < 4.5)]"
   ]
  },
  {
   "cell_type": "code",
   "execution_count": 5,
   "metadata": {},
   "outputs": [],
   "source": [
    "#create df for statics for each \n",
    "stats_great = df_great.describe()\n",
    "stats_good = df_good.describe()"
   ]
  },
  {
   "cell_type": "code",
   "execution_count": 6,
   "metadata": {},
   "outputs": [
    {
     "data": {
      "text/plain": [
       "abv        0.973132\n",
       "look       0.435189\n",
       "smell      0.489968\n",
       "taste      0.497182\n",
       "feel       0.468333\n",
       "overall    0.476403\n",
       "score      0.516404\n",
       "Name: mean, dtype: float64"
      ]
     },
     "execution_count": 6,
     "metadata": {},
     "output_type": "execute_result"
    }
   ],
   "source": [
    "#look at difference between great and good beer means\n",
    "stats_diff = stats_great - stats_good\n",
    "stats_diff.drop('beer_id', axis=1).loc['mean']"
   ]
  },
  {
   "cell_type": "code",
   "execution_count": 7,
   "metadata": {},
   "outputs": [
    {
     "data": {
      "text/plain": [
       "0.9731316215188182"
      ]
     },
     "execution_count": 7,
     "metadata": {},
     "output_type": "execute_result"
    }
   ],
   "source": [
    "stats_great.abv.loc['mean'] - stats_good.abv.loc['mean']"
   ]
  },
  {
   "cell_type": "markdown",
   "metadata": {},
   "source": [
    "### Most noticable increase is mean ABV  (great beers close to 1% in abv higher) <br>"
   ]
  },
  {
   "cell_type": "code",
   "execution_count": 8,
   "metadata": {},
   "outputs": [
    {
     "data": {
      "text/plain": [
       "CA    24.261277\n",
       "MI     8.474978\n",
       "MA     6.072128\n",
       "VT     5.403984\n",
       "IL     5.243284\n",
       "Name: state, dtype: float64"
      ]
     },
     "execution_count": 8,
     "metadata": {},
     "output_type": "execute_result"
    }
   ],
   "source": [
    "#look at top states for great beers as a percentage\n",
    "df_great.state.value_counts()[:5]/df_great.state.value_counts().sum()*100"
   ]
  },
  {
   "cell_type": "code",
   "execution_count": 9,
   "metadata": {},
   "outputs": [
    {
     "data": {
      "text/plain": [
       "CA    21.953220\n",
       "NY     7.044320\n",
       "MI     7.004450\n",
       "CO     6.316172\n",
       "MA     5.617752\n",
       "Name: state, dtype: float64"
      ]
     },
     "execution_count": 9,
     "metadata": {},
     "output_type": "execute_result"
    }
   ],
   "source": [
    "#look at top states for great beers as a percentage\n",
    "df_good.state.value_counts()[:5]/df_good.state.value_counts().sum()*100"
   ]
  },
  {
   "cell_type": "markdown",
   "metadata": {},
   "source": [
    "### Not much useful information with state comparison <br>"
   ]
  },
  {
   "cell_type": "code",
   "execution_count": 10,
   "metadata": {},
   "outputs": [
    {
     "data": {
      "text/plain": [
       "American Imperial Stout    16.458960\n",
       "American Imperial IPA      15.016581\n",
       "American IPA               11.097264\n",
       "American Wild Ale           6.000105\n",
       "Russian Imperial Stout      5.988268\n",
       "Name: style, dtype: float64"
      ]
     },
     "execution_count": 10,
     "metadata": {},
     "output_type": "execute_result"
    }
   ],
   "source": [
    "#look at top five beer styles for great beers as a percentage\n",
    "df_great['style'].value_counts()[:5]/df_great['style'].value_counts().sum()*100"
   ]
  },
  {
   "cell_type": "code",
   "execution_count": 11,
   "metadata": {},
   "outputs": [
    {
     "data": {
      "text/plain": [
       "American IPA               14.675440\n",
       "American Imperial IPA      12.328932\n",
       "American Imperial Stout     8.296877\n",
       "American Pale Ale (APA)     4.872413\n",
       "American Wild Ale           4.754796\n",
       "Name: style, dtype: float64"
      ]
     },
     "execution_count": 11,
     "metadata": {},
     "output_type": "execute_result"
    }
   ],
   "source": [
    "#look at top five beer styles for great beers as a percentage\n",
    "df_good['style'].value_counts()[:5]/df_good['style'].value_counts().sum()*100"
   ]
  },
  {
   "cell_type": "markdown",
   "metadata": {},
   "source": [
    "### Interesting comparison between top three beer styles, will plot <br>"
   ]
  },
  {
   "cell_type": "code",
   "execution_count": 12,
   "metadata": {},
   "outputs": [],
   "source": [
    "#create variables to plot\n",
    "great_styles = df_great['style'].value_counts()[:3]/df_great['style'].value_counts().sum()*100\n",
    "good_styles = df_good['style'].value_counts()[:3]/df_good['style'].value_counts().sum()*100\n",
    "great_styles = great_styles.sort_index(ascending=False)\n",
    "good_styles = good_styles.sort_index(ascending=False)"
   ]
  },
  {
   "cell_type": "code",
   "execution_count": 13,
   "metadata": {},
   "outputs": [
    {
     "data": {
      "image/png": "[encoded data removed]",
      "text/plain": [
       "<Figure size 1000x600 with 1 Axes>"
      ]
     },
     "metadata": {},
     "output_type": "display_data"
    }
   ],
   "source": [
    "#import libraries needed to plot\n",
    "import matplotlib.pyplot as plt\n",
    "import numpy as np\n",
    "\n",
    "#define data an label\n",
    "good = round(good_styles,1)\n",
    "great = round(great_styles,1)\n",
    "labels = good_styles.keys().tolist()\n",
    "\n",
    "#set plot parameters\n",
    "x = np.arange(3)  \n",
    "width = 0.3  \n",
    "plt.style.use('bmh')\n",
    "fig, ax = plt.subplots(figsize=(10,6))\n",
    "\n",
    "#define location and data for each bar group\n",
    "rects1 = ax.bar(x - width/2, great, width, label='Great Beers', color='#6C4501')\n",
    "rects2 = ax.bar(x + width/2, good, width, label='Good Beers', color='#DA7207')\n",
    "\n",
    "#set additional chart parameters\n",
    "plt.ylabel('Percent in Each Category', size=16)\n",
    "plt.title('Top Three Style Categories for Great and Good Beers', y=1.02,size=20)\n",
    "plt.ylim(top=20)\n",
    "ax.set_xticks(x)\n",
    "ax.set_xticklabels(labels, size=16)\n",
    "ax.legend(fontsize=16)\n",
    "ax.grid(linewidth=0.4)\n",
    "fig.tight_layout()\n",
    "\n",
    "#add data labels to each of the bar groups\n",
    "ax.bar_label(rects1, padding=3, size=16)\n",
    "ax.bar_label(rects2, padding=3, size=16)\n",
    "\n",
    "#plot the chart\n",
    "plt.show()"
   ]
  },
  {
   "cell_type": "code",
   "execution_count": 14,
   "metadata": {},
   "outputs": [
    {
     "data": {
      "text/plain": [
       "Rotating                 45.015874\n",
       "Year-round               26.497170\n",
       "Limited (brewed once)    12.843393\n",
       "Winter                    6.412531\n",
       "Fall                      4.630395\n",
       "Spring                    3.189495\n",
       "Summer                    1.411141\n",
       "Name: availability, dtype: float64"
      ]
     },
     "execution_count": 14,
     "metadata": {},
     "output_type": "execute_result"
    }
   ],
   "source": [
    "#look at availability types for great beers as a percentage\n",
    "df_great.availability.value_counts()/df_great.availability.value_counts().sum()*100"
   ]
  },
  {
   "cell_type": "code",
   "execution_count": 15,
   "metadata": {},
   "outputs": [
    {
     "data": {
      "text/plain": [
       "Rotating                 38.860192\n",
       "Year-round               30.611885\n",
       "Limited (brewed once)    14.971343\n",
       "Winter                    5.924155\n",
       "Fall                      4.836081\n",
       "Spring                    2.589321\n",
       "Summer                    2.207021\n",
       "Name: availability, dtype: float64"
      ]
     },
     "execution_count": 15,
     "metadata": {},
     "output_type": "execute_result"
    }
   ],
   "source": [
    "#look at availability types for good beers as a percentage\n",
    "df_good.availability.value_counts()/df_good.availability.value_counts().sum()*100"
   ]
  },
  {
   "cell_type": "markdown",
   "metadata": {},
   "source": [
    "### Marginally interesting comparison between top availability types <br>"
   ]
  },
  {
   "cell_type": "code",
   "execution_count": 16,
   "metadata": {},
   "outputs": [
    {
     "data": {
      "text/plain": [
       "64178"
      ]
     },
     "execution_count": 16,
     "metadata": {},
     "output_type": "execute_result"
    }
   ],
   "source": [
    "#check for unique number of great beers\n",
    "len(df_great.beer_id.unique())"
   ]
  },
  {
   "cell_type": "code",
   "execution_count": 17,
   "metadata": {},
   "outputs": [
    {
     "data": {
      "text/plain": [
       "144733"
      ]
     },
     "execution_count": 17,
     "metadata": {},
     "output_type": "execute_result"
    }
   ],
   "source": [
    "#check for unique number of good beers\n",
    "len(df_good.beer_id.unique())"
   ]
  },
  {
   "cell_type": "code",
   "execution_count": 18,
   "metadata": {},
   "outputs": [
    {
     "data": {
      "text/plain": [
       "20316"
      ]
     },
     "execution_count": 18,
     "metadata": {},
     "output_type": "execute_result"
    }
   ],
   "source": [
    "#check for unique number of great beers with notes\n",
    "len(df_great[df_great.beer_notes != 'No notes at this time.'].beer_id.unique())"
   ]
  },
  {
   "cell_type": "code",
   "execution_count": 19,
   "metadata": {},
   "outputs": [
    {
     "data": {
      "text/plain": [
       "32220"
      ]
     },
     "execution_count": 19,
     "metadata": {},
     "output_type": "execute_result"
    }
   ],
   "source": [
    "#check for unique number of good beers with notes\n",
    "len(df_good[df_good.beer_notes != 'No notes at this time.'].beer_id.unique())"
   ]
  },
  {
   "cell_type": "code",
   "execution_count": 20,
   "metadata": {},
   "outputs": [
    {
     "data": {
      "text/html": [
       "<div>\n",
       "<style scoped>\n",
       "    .dataframe tbody tr th:only-of-type {\n",
       "        vertical-align: middle;\n",
       "    }\n",
       "\n",
       "    .dataframe tbody tr th {\n",
       "        vertical-align: top;\n",
       "    }\n",
       "\n",
       "    .dataframe thead th {\n",
       "        text-align: right;\n",
       "    }\n",
       "</style>\n",
       "<table border=\"1\" class=\"dataframe\">\n",
       "  <thead>\n",
       "    <tr style=\"text-align: right;\">\n",
       "      <th></th>\n",
       "      <th>beer_id</th>\n",
       "      <th>beer_notes</th>\n",
       "    </tr>\n",
       "  </thead>\n",
       "  <tbody>\n",
       "    <tr>\n",
       "      <th>453</th>\n",
       "      <td>268537</td>\n",
       "      <td>Unfiltered and straw colored in appearance thi...</td>\n",
       "    </tr>\n",
       "    <tr>\n",
       "      <th>509</th>\n",
       "      <td>196758</td>\n",
       "      <td>2016 GABF Gold Medal Coffee Beer Winner</td>\n",
       "    </tr>\n",
       "    <tr>\n",
       "      <th>537</th>\n",
       "      <td>33375</td>\n",
       "      <td>A hoppy Northwest style red ale. Lots of late ...</td>\n",
       "    </tr>\n",
       "    <tr>\n",
       "      <th>572</th>\n",
       "      <td>262749</td>\n",
       "      <td>Medwards says \"If you force fed a watermelon a...</td>\n",
       "    </tr>\n",
       "    <tr>\n",
       "      <th>1027</th>\n",
       "      <td>39024</td>\n",
       "      <td>Formerly named 9LB Porter. Georgetown Porter i...</td>\n",
       "    </tr>\n",
       "  </tbody>\n",
       "</table>\n",
       "</div>"
      ],
      "text/plain": [
       "      beer_id                                         beer_notes\n",
       "453    268537  Unfiltered and straw colored in appearance thi...\n",
       "509    196758            2016 GABF Gold Medal Coffee Beer Winner\n",
       "537     33375  A hoppy Northwest style red ale. Lots of late ...\n",
       "572    262749  Medwards says \"If you force fed a watermelon a...\n",
       "1027    39024  Formerly named 9LB Porter. Georgetown Porter i..."
      ]
     },
     "execution_count": 20,
     "metadata": {},
     "output_type": "execute_result"
    }
   ],
   "source": [
    "#create a df with each great beer that has a note\n",
    "df_great_notes = df_great[df_great.beer_notes != 'No notes at this time.'][['beer_id','beer_notes']].drop_duplicates()\n",
    "df_great_notes.head()"
   ]
  },
  {
   "cell_type": "code",
   "execution_count": 21,
   "metadata": {},
   "outputs": [
    {
     "data": {
      "text/plain": [
       "(20316, 2)"
      ]
     },
     "execution_count": 21,
     "metadata": {},
     "output_type": "execute_result"
    }
   ],
   "source": [
    "df_great_notes.shape"
   ]
  },
  {
   "cell_type": "code",
   "execution_count": 22,
   "metadata": {},
   "outputs": [
    {
     "data": {
      "text/html": [
       "<div>\n",
       "<style scoped>\n",
       "    .dataframe tbody tr th:only-of-type {\n",
       "        vertical-align: middle;\n",
       "    }\n",
       "\n",
       "    .dataframe tbody tr th {\n",
       "        vertical-align: top;\n",
       "    }\n",
       "\n",
       "    .dataframe thead th {\n",
       "        text-align: right;\n",
       "    }\n",
       "</style>\n",
       "<table border=\"1\" class=\"dataframe\">\n",
       "  <thead>\n",
       "    <tr style=\"text-align: right;\">\n",
       "      <th></th>\n",
       "      <th>beer_id</th>\n",
       "      <th>beer_notes</th>\n",
       "    </tr>\n",
       "  </thead>\n",
       "  <tbody>\n",
       "    <tr>\n",
       "      <th>71</th>\n",
       "      <td>320009</td>\n",
       "      <td>Every time this year</td>\n",
       "    </tr>\n",
       "    <tr>\n",
       "      <th>72</th>\n",
       "      <td>262748</td>\n",
       "      <td>\"...you close your eyes and picture a Christma...</td>\n",
       "    </tr>\n",
       "    <tr>\n",
       "      <th>76</th>\n",
       "      <td>182869</td>\n",
       "      <td>An experiment brewed during the hop shortage, ...</td>\n",
       "    </tr>\n",
       "    <tr>\n",
       "      <th>104</th>\n",
       "      <td>253290</td>\n",
       "      <td>Crashed hard, but lands soft, Fizzmeow brings ...</td>\n",
       "    </tr>\n",
       "    <tr>\n",
       "      <th>107</th>\n",
       "      <td>150331</td>\n",
       "      <td>A drinkable ebony brew, warming the frigid day...</td>\n",
       "    </tr>\n",
       "  </tbody>\n",
       "</table>\n",
       "</div>"
      ],
      "text/plain": [
       "     beer_id                                         beer_notes\n",
       "71    320009                               Every time this year\n",
       "72    262748  \"...you close your eyes and picture a Christma...\n",
       "76    182869  An experiment brewed during the hop shortage, ...\n",
       "104   253290  Crashed hard, but lands soft, Fizzmeow brings ...\n",
       "107   150331  A drinkable ebony brew, warming the frigid day..."
      ]
     },
     "execution_count": 22,
     "metadata": {},
     "output_type": "execute_result"
    }
   ],
   "source": [
    "#create a df with each good beer that has a note\n",
    "df_good_notes = df_good[df_good.beer_notes != 'No notes at this time.'][['beer_id','beer_notes']].drop_duplicates()\n",
    "df_good_notes.head()"
   ]
  },
  {
   "cell_type": "code",
   "execution_count": 23,
   "metadata": {},
   "outputs": [
    {
     "data": {
      "text/plain": [
       "(32220, 2)"
      ]
     },
     "execution_count": 23,
     "metadata": {},
     "output_type": "execute_result"
    }
   ],
   "source": [
    "df_good_notes.shape"
   ]
  },
  {
   "cell_type": "code",
   "execution_count": 24,
   "metadata": {},
   "outputs": [
    {
     "data": {
      "text/plain": [
       "FreqDist({'and': 31016, 'the': 25773, 'a': 25731, 'of': 22023, 'with': 20007, 'is': 11927, 'in': 11914, 'to': 10773, 'this': 9438, 'beer': 7800, ...})"
      ]
     },
     "execution_count": 24,
     "metadata": {},
     "output_type": "execute_result"
    }
   ],
   "source": [
    "#create code to find word count frequencies using nlkt library\n",
    "import nltk\n",
    "#nltk.download('punkt')\n",
    "#nltk.download('stopwords')\n",
    "\n",
    "#make great beer notes lower case, remove . and , then combine into one string\n",
    "txt = df_great_notes.beer_notes.str.lower().str.replace(r',', '', regex=True) \\\n",
    "    .str.replace(r'.', '', regex=True).str.cat(sep=' ')\n",
    "\n",
    "#tokenize words into a list\n",
    "words = nltk.tokenize.word_tokenize(txt)\n",
    "\n",
    "#find the frequency of each word\n",
    "great_word_dist = nltk.FreqDist(words)\n",
    "great_word_dist"
   ]
  },
  {
   "cell_type": "code",
   "execution_count": 25,
   "metadata": {},
   "outputs": [
    {
     "data": {
      "text/plain": [
       "[('beer', 7800),\n",
       " ('ale', 6706),\n",
       " ('hops', 5341),\n",
       " ('brewed', 5059),\n",
       " ('aged', 3938),\n",
       " ('ipa', 3919),\n",
       " ('hop', 3638),\n",
       " ('malt', 3495),\n",
       " ('barrels', 3097),\n",
       " ('flavor', 2568)]"
      ]
     },
     "execution_count": 25,
     "metadata": {},
     "output_type": "execute_result"
    }
   ],
   "source": [
    "#remove stopwords like and, the, a, etc. then show 15 most common\n",
    "stopwords = nltk.corpus.stopwords.words('english')\n",
    "great_words_except_stop_dist = nltk.FreqDist(w for w in words if w not in stopwords) \n",
    "great_words_except_stop_dist.pop('’')\n",
    "great_words_except_stop_dist.pop('!')\n",
    "great_words_except_stop_dist.pop(\"'s\")\n",
    "great_words_except_stop_dist.pop('%')\n",
    "great_words_except_stop_dist.most_common(10)"
   ]
  },
  {
   "cell_type": "code",
   "execution_count": 26,
   "metadata": {},
   "outputs": [
    {
     "data": {
      "text/plain": [
       "FreqDist({'and': 47235, 'a': 38948, 'the': 37862, 'of': 32468, 'with': 32126, 'in': 17412, 'is': 17356, 'to': 15918, 'this': 14261, 'beer': 11724, ...})"
      ]
     },
     "execution_count": 26,
     "metadata": {},
     "output_type": "execute_result"
    }
   ],
   "source": [
    "#make good beer notes lower case, remove . and , then combine into one string\n",
    "txt = df_good_notes.beer_notes.str.lower().str.replace(r',', '', regex=True) \\\n",
    "    .str.replace(r'.', '', regex=True).str.cat(sep=' ')\n",
    "\n",
    "#tokenize words into a list\n",
    "words = nltk.tokenize.word_tokenize(txt)\n",
    "\n",
    "#find the frequency of each word\n",
    "good_word_dist = nltk.FreqDist(words)\n",
    "good_word_dist"
   ]
  },
  {
   "cell_type": "code",
   "execution_count": 27,
   "metadata": {},
   "outputs": [
    {
     "data": {
      "text/plain": [
       "[('beer', 11724),\n",
       " ('ale', 10473),\n",
       " ('hops', 8422),\n",
       " ('brewed', 8370),\n",
       " ('ipa', 6078),\n",
       " ('aged', 5632),\n",
       " ('malt', 5623),\n",
       " ('hop', 5517),\n",
       " ('barrels', 4261),\n",
       " ('flavor', 3906)]"
      ]
     },
     "execution_count": 27,
     "metadata": {},
     "output_type": "execute_result"
    }
   ],
   "source": [
    "#remove stopwords like and, the, a, etc. then show 15 most common\n",
    "stopwords = nltk.corpus.stopwords.words('english')\n",
    "good_words_except_stop_dist = nltk.FreqDist(w for w in words if w not in stopwords) \n",
    "good_words_except_stop_dist.pop('’')\n",
    "good_words_except_stop_dist.pop('!')\n",
    "good_words_except_stop_dist.pop(\"'s\")\n",
    "good_words_except_stop_dist.most_common(10)"
   ]
  },
  {
   "cell_type": "markdown",
   "metadata": {},
   "source": [
    "### Not much useful information with state comparison <br>"
   ]
  },
  {
   "cell_type": "code",
   "execution_count": 28,
   "metadata": {},
   "outputs": [],
   "source": [
    "#Will look at analysis of user reviews in beer_good_great_part2 notebook"
   ]
  }
 ],
 "metadata": {
  "kernelspec": {
   "display_name": "Python 3 (ipykernel)",
   "language": "python",
   "name": "python3"
  },
  "language_info": {
   "codemirror_mode": {
    "name": "ipython",
    "version": 3
   },
   "file_extension": ".py",
   "mimetype": "text/x-python",
   "name": "python",
   "nbconvert_exporter": "python",
   "pygments_lexer": "ipython3",
   "version": "3.9.12"
  }
 },
 "nbformat": 4,
 "nbformat_minor": 4
}
