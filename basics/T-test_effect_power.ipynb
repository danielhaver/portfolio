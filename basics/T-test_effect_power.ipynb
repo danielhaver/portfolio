{
 "cells": [
  {
   "cell_type": "markdown",
   "id": "07bad4a7",
   "metadata": {},
   "source": [
    "### Students t-test\n",
    "compare the means of two groups (dependent if related, ex. pre/post, otherwise independent)"
   ]
  },
  {
   "cell_type": "code",
   "execution_count": 58,
   "id": "74f82976",
   "metadata": {},
   "outputs": [],
   "source": [
    "import pandas as pd\n",
    "import numpy as np\n",
    "from scipy.stats import ttest_ind\n",
    "\n",
    "# Load data into two separate dataframes\n",
    "\n",
    "df1 = pd.DataFrame(np.random.randn(2000, 1), columns=['variable'])\n",
    "df2 = pd.DataFrame(np.random.randn(2000, 1)+.06, columns=['variable'])\n",
    "\n"
   ]
  },
  {
   "cell_type": "code",
   "execution_count": 59,
   "id": "e8cb8c98",
   "metadata": {},
   "outputs": [
    {
     "data": {
      "text/plain": [
       "<Axes: >"
      ]
     },
     "execution_count": 59,
     "metadata": {},
     "output_type": "execute_result"
    },
    {
     "data": {
      "image/png": "[encoded data removed]",
      "text/plain": [
       "<Figure size 640x480 with 1 Axes>"
      ]
     },
     "metadata": {},
     "output_type": "display_data"
    }
   ],
   "source": [
    "df1['variable'].hist(bins=40)\n",
    "df2['variable'].hist(bins=40)"
   ]
  },
  {
   "cell_type": "code",
   "execution_count": 60,
   "id": "bab06f8c",
   "metadata": {},
   "outputs": [
    {
     "name": "stdout",
     "output_type": "stream",
     "text": [
      "t-statistic = -0.9288504187404449\n",
      "p-value = 0.3530226859687853\n",
      "There is no significant difference between the means of the two groups.\n"
     ]
    }
   ],
   "source": [
    "# Perform t-test\n",
    "# using the ttest_ind function from the scipy.stats library\n",
    "# The function returns the t-statistic and p-value of the test. \n",
    "t_stat, p_value = ttest_ind(df1['variable'], df2['variable'])\n",
    "\n",
    "# Print results\n",
    "print(f\"t-statistic = {t_stat}\")\n",
    "print(f\"p-value = {p_value}\")\n",
    "\n",
    "if p_value < 0.05:\n",
    "    print(\"The means of the two groups are significantly different.\")\n",
    "else:\n",
    "    print(\"There is no significant difference between the means of the two groups.\")\n"
   ]
  },
  {
   "cell_type": "markdown",
   "id": "d01ad8ae",
   "metadata": {},
   "source": [
    "### Effect\n",
    "measure the impact of the mean difference: 0.2 small, 0.5 medium, 0.8+ high"
   ]
  },
  {
   "cell_type": "code",
   "execution_count": 73,
   "id": "21b2b2f8",
   "metadata": {},
   "outputs": [
    {
     "name": "stdout",
     "output_type": "stream",
     "text": [
      "Cohen's d: 1.2195214289787732\n"
     ]
    }
   ],
   "source": [
    "import scipy.stats as stats\n",
    "import numpy as np\n",
    "\n",
    "# Create two groups of data\n",
    "group1 = np.random.normal(10, 2, size=100)\n",
    "group2 = np.random.normal(12, 2, size=100)\n",
    "\n",
    "# Calculate Cohen's d\n",
    "# which is the difference between the means \n",
    "# of the two groups divided by the pooled standard deviation. \n",
    "diff = group1.mean() - group2.mean()\n",
    "pooled_std = np.sqrt((group1.std()**2 + group2.std()**2) / 2)\n",
    "d = abs(diff) / pooled_std\n",
    "\n",
    "# Print the results\n",
    "print(f\"Cohen's d: {d}\")"
   ]
  },
  {
   "cell_type": "markdown",
   "id": "a2f7168f",
   "metadata": {},
   "source": [
    "### Power\n",
    "Measures how big a sample size is needed"
   ]
  },
  {
   "cell_type": "code",
   "execution_count": 65,
   "id": "d229e342",
   "metadata": {},
   "outputs": [],
   "source": [
    "#pip install statsmodels"
   ]
  },
  {
   "cell_type": "code",
   "execution_count": 64,
   "id": "7659dda6",
   "metadata": {},
   "outputs": [
    {
     "name": "stdout",
     "output_type": "stream",
     "text": [
      "Sample size required: 393.4056989990335\n"
     ]
    }
   ],
   "source": [
    "import statsmodels.stats.power as smp\n",
    "\n",
    "# Set the parameters\n",
    "effect_size = 0.2\n",
    "alpha = 0.05 #or the p value\n",
    "power = 0.8 #desired power level for the study\n",
    "\n",
    "# Perform power analysis\n",
    "# using statsmodel function\n",
    "# passing in the effect size, alpha level, and power level \n",
    "nobs = smp.tt_ind_solve_power(effect_size=effect_size, alpha=alpha, power=power)\n",
    "\n",
    "# Print the results\n",
    "# which in this case would be \n",
    "# the sample size required to detect a medium-sized effect\n",
    "print(f\"Sample size required: {nobs}\")"
   ]
  },
  {
   "cell_type": "markdown",
   "id": "1f2bbf38",
   "metadata": {},
   "source": [
    "### Confidence Interval \n",
    "confidence interval gives you a range of values that likely contains the true population mean"
   ]
  },
  {
   "cell_type": "code",
   "execution_count": 77,
   "id": "3148d924",
   "metadata": {},
   "outputs": [
    {
     "name": "stdout",
     "output_type": "stream",
     "text": [
      "95% Confidence interval: (5.1502211844027235, 6.8497788155972765)\n"
     ]
    }
   ],
   "source": [
    "import numpy as np\n",
    "import statsmodels.stats.api as sms\n",
    "\n",
    "# Example data\n",
    "data = np.array([4, 4, 6, 6, 6, 6, 6, 6, 6, 8, 8])\n",
    "\n",
    "\n",
    "# Calculate 95% confidence interval for the mean\n",
    "# The default level of confidence is 95%. \n",
    "ci = sms.DescrStatsW(data).tconfint_mean()\n",
    "\n",
    "# Print the confidence interval\n",
    "# The tconfint_mean function returns a tuple \n",
    "# containing the lower and upper bounds of the confidence interval.\n",
    "print(\"95% Confidence interval:\", ci)"
   ]
  },
  {
   "cell_type": "markdown",
   "id": "f5e8f7f3",
   "metadata": {},
   "source": [
    "### Centeral Limit Thereom\n",
    "Means of samples will form a normal distribution regarless of the population distribution"
   ]
  },
  {
   "cell_type": "markdown",
   "id": "04d45559",
   "metadata": {},
   "source": [
    "### Law of Large Numbers\n",
    "As the number of samples increase, the probability of outcomes will approach the population (ex. coin flip)"
   ]
  },
  {
   "cell_type": "code",
   "execution_count": null,
   "id": "e5804bd8",
   "metadata": {},
   "outputs": [],
   "source": []
  }
 ],
 "metadata": {
  "kernelspec": {
   "display_name": "Python 3 (ipykernel)",
   "language": "python",
   "name": "python3"
  },
  "language_info": {
   "codemirror_mode": {
    "name": "ipython",
    "version": 3
   },
   "file_extension": ".py",
   "mimetype": "text/x-python",
   "name": "python",
   "nbconvert_exporter": "python",
   "pygments_lexer": "ipython3",
   "version": "3.9.12"
  }
 },
 "nbformat": 4,
 "nbformat_minor": 5
}
