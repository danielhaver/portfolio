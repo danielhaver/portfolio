{
 "cells": [
  {
   "cell_type": "markdown",
   "id": "828bdf06",
   "metadata": {},
   "source": [
    "### Class examples"
   ]
  },
  {
   "cell_type": "code",
   "execution_count": 28,
   "id": "a119c5e3",
   "metadata": {},
   "outputs": [],
   "source": [
    "class Person():\n",
    "    def __init__(self, name = 'Fred', age = 12):\n",
    "        self.age = age\n",
    "        self.name = name\n",
    "    def __str__(self):\n",
    "        return \"<\" + self.name + \",\" + str(self.age) + \">\"\n",
    "    def first_letter(self):\n",
    "        return self.name[0]\n",
    "\n",
    "p1 = Person(\"John\",89)\n",
    "p2 = Person()"
   ]
  },
  {
   "cell_type": "code",
   "execution_count": 29,
   "id": "8b23d867",
   "metadata": {},
   "outputs": [
    {
     "name": "stdout",
     "output_type": "stream",
     "text": [
      "<John,89>\n"
     ]
    }
   ],
   "source": [
    "print(p1)"
   ]
  },
  {
   "cell_type": "code",
   "execution_count": 30,
   "id": "2e4bdcb1",
   "metadata": {},
   "outputs": [
    {
     "name": "stdout",
     "output_type": "stream",
     "text": [
      "<Fred,12>\n"
     ]
    }
   ],
   "source": [
    "print(p2)"
   ]
  },
  {
   "cell_type": "code",
   "execution_count": 31,
   "id": "5690301f",
   "metadata": {},
   "outputs": [
    {
     "name": "stdout",
     "output_type": "stream",
     "text": [
      "F\n"
     ]
    }
   ],
   "source": [
    "print(p2.first_letter())"
   ]
  },
  {
   "cell_type": "code",
   "execution_count": 16,
   "id": "9c6218dd",
   "metadata": {},
   "outputs": [
    {
     "name": "stdout",
     "output_type": "stream",
     "text": [
      "<John,36>\n"
     ]
    }
   ],
   "source": [
    "class Person:\n",
    "  def __init__(self, name, age):\n",
    "    self.name = name\n",
    "    self.age = age\n",
    "\n",
    "  def __str__(self):\n",
    "    return f\"<{self.name},{self.age}>\"\n",
    "\n",
    "p1 = Person(\"John\", 36)\n",
    "\n",
    "print(p1)"
   ]
  },
  {
   "cell_type": "code",
   "execution_count": null,
   "id": "f7e785da",
   "metadata": {},
   "outputs": [],
   "source": []
  }
 ],
 "metadata": {
  "kernelspec": {
   "display_name": "Python 3 (ipykernel)",
   "language": "python",
   "name": "python3"
  },
  "language_info": {
   "codemirror_mode": {
    "name": "ipython",
    "version": 3
   },
   "file_extension": ".py",
   "mimetype": "text/x-python",
   "name": "python",
   "nbconvert_exporter": "python",
   "pygments_lexer": "ipython3",
   "version": "3.9.12"
  }
 },
 "nbformat": 4,
 "nbformat_minor": 5
}
