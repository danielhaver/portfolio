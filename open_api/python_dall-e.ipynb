{
 "cells": [
  {
   "cell_type": "code",
   "execution_count": 1,
   "id": "70a44731",
   "metadata": {},
   "outputs": [],
   "source": [
    "#pip install openai - use if libarires are not installed\n",
    "\n",
    "#import libraries\n",
    "import openai\n",
    "\n",
    "#set your secret API key\n",
    "openai.api_key = 'your_secret_API_key_goes_here'\n",
    "\n",
    "#list the words that will be used to create you image\n",
    "words = 'High detail banner image for artificial intelligence,\\\n",
    "         machine leanring, and analytics in dark blue'\n",
    "\n",
    "#call the API using parameters\n",
    "response = openai.Image.create(prompt=words, \n",
    "                               n=1, \n",
    "                               size='1024x1024',\n",
    "                               response_format='url')\n",
    "\n",
    "#return the URL of the created image\n",
    "print(response['data'][0]['url'])"
   ]
  },
  {
   "cell_type": "code",
   "execution_count": null,
   "id": "c716a224",
   "metadata": {},
   "outputs": [],
   "source": []
  }
 ],
 "metadata": {
  "kernelspec": {
   "display_name": "Python 3 (ipykernel)",
   "language": "python",
   "name": "python3"
  },
  "language_info": {
   "codemirror_mode": {
    "name": "ipython",
    "version": 3
   },
   "file_extension": ".py",
   "mimetype": "text/x-python",
   "name": "python",
   "nbconvert_exporter": "python",
   "pygments_lexer": "ipython3",
   "version": "3.9.12"
  }
 },
 "nbformat": 4,
 "nbformat_minor": 5
}
